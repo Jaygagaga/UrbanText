{
 "cells": [
  {
   "cell_type": "code",
   "execution_count": 1,
   "metadata": {},
   "outputs": [],
   "source": [
    "#Setting up selenium webdriver\n",
    "from selenium.webdriver.common.keys import Keys\n",
    "from selenium.webdriver.support.ui import WebDriverWait\n",
    "from selenium.webdriver.common.by import By\n",
    "from selenium.common.exceptions import NoSuchElementException\n",
    "from selenium.common.exceptions import TimeoutException\n",
    "from selenium.webdriver.support import expected_conditions as EC\n",
    "from selenium import webdriver\n",
    "from selenium import webdriver\n",
    "from selenium.webdriver.chrome.options import Options\n",
    "from selenium.webdriver.chrome.service import Service\n",
    "from bs4 import BeautifulSoup\n",
    "import pandas as pd\n",
    "\n",
    "import os\n",
    "import glob\n",
    "from time import sleep\n",
    "import argparse\n",
    "import math\n",
    "import os"
   ]
  },
  {
   "cell_type": "code",
   "execution_count": 2,
   "metadata": {},
   "outputs": [],
   "source": [
    "parser = argparse.ArgumentParser()\n",
    "\n",
    "parser.add_argument(\n",
    "    '-ch',\n",
    "    \"--chromedriver_path\",\n",
    "    required=True,\n",
    "    type=str,\n",
    "    default='./Data/chrome_driver/chromedriver',\n",
    "    help=\"Local path where you put the list of streets\",\n",
    ")\n",
    "\n",
    "parser.add_argument(\n",
    "    '-f',\n",
    "    \"--file_path\",\n",
    "    required=True,\n",
    "    type=str,\n",
    "    default='./Data/London_streets.csv',\n",
    "    help=\"Local path where you put the list of streets\",\n",
    ")\n",
    "\n",
    "parser.add_argument(\n",
    "    '-c',\n",
    "    \"--city\",\n",
    "    required=True,\n",
    "    type=str,\n",
    "    default='London',\n",
    "    help=\"The city where the streets belong to\",\n",
    ")\n",
    "\n",
    "parser.add_argument(\n",
    "    '-s',\n",
    "    \"--save_path\",\n",
    "    required=True,\n",
    "    type=str,\n",
    "    default='./Data/Reviews/TripAdvisor',\n",
    "    help=\"local path where you want to save your scraped data\",\n",
    ")\n",
    "parser.add_argument(\n",
    "    '-u',\n",
    "    \"--unfound_path\",\n",
    "    required=True,\n",
    "    type=str,\n",
    "    default='./Data/Reviews/TripAdvisor/unfound_streets_reviews_TripAdvisor.txt',\n",
    "    help=\"Record unfound streets or streets without reviews\",\n",
    ")\n",
    "    # args = parser.parse_args(args=[])\n",
    "cmd_args = ['-ch', './Data/chrome_driver/chromedriver', '-f', './Data/street_names.csv',\n",
    "                '-c', 'Singapore', '-s', './Data/Reviews/Trip', '-u', './Data/Reviews/TripAdvisor/unfound_streets_reviews_Trip.txt']\n",
    "args = parser.parse_args(cmd_args)"
   ]
  },
  {
   "cell_type": "code",
   "execution_count": 5,
   "metadata": {},
   "outputs": [
    {
     "name": "stdout",
     "output_type": "stream",
     "text": [
      "Orchard Road, Singapore\n"
     ]
    },
    {
     "ename": "NoSuchElementException",
     "evalue": "Message: no such element: Unable to locate element: {\"method\":\"xpath\",\"selector\":\"//*[@id=\"__next\"]/div[2]/div/div[2]\"}\n  (Session info: chrome=110.0.5481.100)\nStacktrace:\n0   chromedriver                        0x0000000102e1d1c0 chromedriver + 4248000\n1   chromedriver                        0x0000000102d9ddc0 chromedriver + 3726784\n2   chromedriver                        0x0000000102a52ec4 chromedriver + 274116\n3   chromedriver                        0x0000000102a8ebe4 chromedriver + 519140\n4   chromedriver                        0x0000000102aca054 chromedriver + 761940\n5   chromedriver                        0x0000000102a81200 chromedriver + 463360\n6   chromedriver                        0x0000000102a82318 chromedriver + 467736\n7   chromedriver                        0x0000000102deb060 chromedriver + 4042848\n8   chromedriver                        0x0000000102def8a4 chromedriver + 4061348\n9   chromedriver                        0x0000000102df73d0 chromedriver + 4092880\n10  chromedriver                        0x0000000102df06e4 chromedriver + 4064996\n11  chromedriver                        0x0000000102dc60fc chromedriver + 3891452\n12  chromedriver                        0x0000000102e10a64 chromedriver + 4196964\n13  chromedriver                        0x0000000102e10bb8 chromedriver + 4197304\n14  chromedriver                        0x0000000102e24650 chromedriver + 4277840\n15  libsystem_pthread.dylib             0x000000019d85206c _pthread_start + 148\n16  libsystem_pthread.dylib             0x000000019d84ce2c thread_start + 8\n",
     "output_type": "error",
     "traceback": [
      "\u001b[0;31m---------------------------------------------------------------------------\u001b[0m",
      "\u001b[0;31mNoSuchElementException\u001b[0m                    Traceback (most recent call last)",
      "Cell \u001b[0;32mIn[5], line 41\u001b[0m\n\u001b[1;32m     37\u001b[0m \u001b[39m# search.send_keys(Keys.RETURN)\u001b[39;00m\n\u001b[1;32m     38\u001b[0m \u001b[39m# sleep(3)\u001b[39;00m\n\u001b[1;32m     39\u001b[0m \u001b[39m#Clicking to search\u001b[39;00m\n\u001b[1;32m     40\u001b[0m driver\u001b[39m.\u001b[39mfind_element(By\u001b[39m.\u001b[39mXPATH, \u001b[39m'\u001b[39m\u001b[39m//*[@id=\u001b[39m\u001b[39m\"\u001b[39m\u001b[39mibuHeaderSearch\u001b[39m\u001b[39m\"\u001b[39m\u001b[39m]/div/div/div[2]/div/div\u001b[39m\u001b[39m'\u001b[39m)\u001b[39m.\u001b[39mclick()\n\u001b[0;32m---> 41\u001b[0m \u001b[39mprint\u001b[39m(driver\u001b[39m.\u001b[39;49mfind_element(By\u001b[39m.\u001b[39;49mXPATH, \u001b[39m'\u001b[39;49m\u001b[39m//*[@id=\u001b[39;49m\u001b[39m\"\u001b[39;49m\u001b[39m__next\u001b[39;49m\u001b[39m\"\u001b[39;49m\u001b[39m]/div[2]/div/div[2]\u001b[39;49m\u001b[39m'\u001b[39;49m)\u001b[39m.\u001b[39mtext)\n\u001b[1;32m     43\u001b[0m \u001b[39m# Execute JavaScript code to locate the element inside the Shadow DOM\u001b[39;00m\n\u001b[1;32m     44\u001b[0m \u001b[39m# element_in_shadow_dom = driver.execute_script(\"return arguments[0].shadowRoot.querySelector('my-element')\", web_component)\u001b[39;00m\n\u001b[1;32m     45\u001b[0m \u001b[39m# driver.find_element(By.XPATH, f'//*[@id=\"react-tabs-16581\"]/div/div[2]//*[contains(translate(text(), \"ABCDEFGHIJKLMNOPQRSTUVWXYZ\", \"abcdefghijklmnopqrstuvwxyz\"), \"{street_name}\")]').click()\u001b[39;00m\n\u001b[1;32m     46\u001b[0m driver\u001b[39m.\u001b[39mclose()\n",
      "File \u001b[0;32m~/opt/anaconda3/envs/urbantext/lib/python3.11/site-packages/selenium/webdriver/remote/webdriver.py:830\u001b[0m, in \u001b[0;36mWebDriver.find_element\u001b[0;34m(self, by, value)\u001b[0m\n\u001b[1;32m    827\u001b[0m     by \u001b[39m=\u001b[39m By\u001b[39m.\u001b[39mCSS_SELECTOR\n\u001b[1;32m    828\u001b[0m     value \u001b[39m=\u001b[39m \u001b[39mf\u001b[39m\u001b[39m'\u001b[39m\u001b[39m[name=\u001b[39m\u001b[39m\"\u001b[39m\u001b[39m{\u001b[39;00mvalue\u001b[39m}\u001b[39;00m\u001b[39m\"\u001b[39m\u001b[39m]\u001b[39m\u001b[39m'\u001b[39m\n\u001b[0;32m--> 830\u001b[0m \u001b[39mreturn\u001b[39;00m \u001b[39mself\u001b[39;49m\u001b[39m.\u001b[39;49mexecute(Command\u001b[39m.\u001b[39;49mFIND_ELEMENT, {\u001b[39m\"\u001b[39;49m\u001b[39musing\u001b[39;49m\u001b[39m\"\u001b[39;49m: by, \u001b[39m\"\u001b[39;49m\u001b[39mvalue\u001b[39;49m\u001b[39m\"\u001b[39;49m: value})[\u001b[39m\"\u001b[39m\u001b[39mvalue\u001b[39m\u001b[39m\"\u001b[39m]\n",
      "File \u001b[0;32m~/opt/anaconda3/envs/urbantext/lib/python3.11/site-packages/selenium/webdriver/remote/webdriver.py:440\u001b[0m, in \u001b[0;36mWebDriver.execute\u001b[0;34m(self, driver_command, params)\u001b[0m\n\u001b[1;32m    438\u001b[0m response \u001b[39m=\u001b[39m \u001b[39mself\u001b[39m\u001b[39m.\u001b[39mcommand_executor\u001b[39m.\u001b[39mexecute(driver_command, params)\n\u001b[1;32m    439\u001b[0m \u001b[39mif\u001b[39;00m response:\n\u001b[0;32m--> 440\u001b[0m     \u001b[39mself\u001b[39;49m\u001b[39m.\u001b[39;49merror_handler\u001b[39m.\u001b[39;49mcheck_response(response)\n\u001b[1;32m    441\u001b[0m     response[\u001b[39m\"\u001b[39m\u001b[39mvalue\u001b[39m\u001b[39m\"\u001b[39m] \u001b[39m=\u001b[39m \u001b[39mself\u001b[39m\u001b[39m.\u001b[39m_unwrap_value(response\u001b[39m.\u001b[39mget(\u001b[39m\"\u001b[39m\u001b[39mvalue\u001b[39m\u001b[39m\"\u001b[39m, \u001b[39mNone\u001b[39;00m))\n\u001b[1;32m    442\u001b[0m     \u001b[39mreturn\u001b[39;00m response\n",
      "File \u001b[0;32m~/opt/anaconda3/envs/urbantext/lib/python3.11/site-packages/selenium/webdriver/remote/errorhandler.py:245\u001b[0m, in \u001b[0;36mErrorHandler.check_response\u001b[0;34m(self, response)\u001b[0m\n\u001b[1;32m    243\u001b[0m         alert_text \u001b[39m=\u001b[39m value[\u001b[39m\"\u001b[39m\u001b[39malert\u001b[39m\u001b[39m\"\u001b[39m]\u001b[39m.\u001b[39mget(\u001b[39m\"\u001b[39m\u001b[39mtext\u001b[39m\u001b[39m\"\u001b[39m)\n\u001b[1;32m    244\u001b[0m     \u001b[39mraise\u001b[39;00m exception_class(message, screen, stacktrace, alert_text)  \u001b[39m# type: ignore[call-arg]  # mypy is not smart enough here\u001b[39;00m\n\u001b[0;32m--> 245\u001b[0m \u001b[39mraise\u001b[39;00m exception_class(message, screen, stacktrace)\n",
      "\u001b[0;31mNoSuchElementException\u001b[0m: Message: no such element: Unable to locate element: {\"method\":\"xpath\",\"selector\":\"//*[@id=\"__next\"]/div[2]/div/div[2]\"}\n  (Session info: chrome=110.0.5481.100)\nStacktrace:\n0   chromedriver                        0x0000000102e1d1c0 chromedriver + 4248000\n1   chromedriver                        0x0000000102d9ddc0 chromedriver + 3726784\n2   chromedriver                        0x0000000102a52ec4 chromedriver + 274116\n3   chromedriver                        0x0000000102a8ebe4 chromedriver + 519140\n4   chromedriver                        0x0000000102aca054 chromedriver + 761940\n5   chromedriver                        0x0000000102a81200 chromedriver + 463360\n6   chromedriver                        0x0000000102a82318 chromedriver + 467736\n7   chromedriver                        0x0000000102deb060 chromedriver + 4042848\n8   chromedriver                        0x0000000102def8a4 chromedriver + 4061348\n9   chromedriver                        0x0000000102df73d0 chromedriver + 4092880\n10  chromedriver                        0x0000000102df06e4 chromedriver + 4064996\n11  chromedriver                        0x0000000102dc60fc chromedriver + 3891452\n12  chromedriver                        0x0000000102e10a64 chromedriver + 4196964\n13  chromedriver                        0x0000000102e10bb8 chromedriver + 4197304\n14  chromedriver                        0x0000000102e24650 chromedriver + 4277840\n15  libsystem_pthread.dylib             0x000000019d85206c _pthread_start + 148\n16  libsystem_pthread.dylib             0x000000019d84ce2c thread_start + 8\n"
     ]
    }
   ],
   "source": [
    "# set constant\n",
    "MAX_WAIT = 20\n",
    "# initialize webdriver\n",
    "options = webdriver.ChromeOptions()\n",
    "options.add_experimental_option('excludeSwitches', ['enable-automation'])\n",
    "options.add_argument('--incognito')  # 隐身模式（无痕模式）\n",
    "options.add_argument(\"--disable-blink-features\")\n",
    "options.add_argument(\"--disable-blink-features=AutomationControlled\")\n",
    "# driver = webdriver.Chrome(executable_path=, options=options)\n",
    "ser = Service(f\"{args.chromedriver_path}\")\n",
    "driver = webdriver.Chrome(service=ser, options=options)\n",
    "# load street names\n",
    "streets_df = pd.read_csv(args.file_path)\n",
    "streets = list(streets_df.Street.unique()) \n",
    "# read and concatenate csv files\n",
    "csv_files = glob.glob(args.save_path+'/*.csv')\n",
    "data_frames = []\n",
    "street = \"Orchard Road\"\n",
    "\n",
    "driver.execute_script(\"window.open('');\")\n",
    "driver.switch_to.window(driver.window_handles[1])\n",
    "driver.get('https://sg.trip.com/?locale=en-sg')\n",
    "\n",
    "wait = WebDriverWait(driver, MAX_WAIT)\n",
    "sleep(5)\n",
    "try:\n",
    "    # search = wait.until(EC.element_to_be_clickable((By.XPATH, './/span[@class=\"QLiHN o W\"]')))\n",
    "    # search.click()\n",
    "    box = wait.until(EC.element_to_be_clickable((By.XPATH, '//*[@id=\"ibuHeaderSearch\"]/div/div/div[1]/input')))\n",
    "except TimeoutException:\n",
    "    print('Cannot locate search box')\n",
    "sleep(3)\n",
    "street_name = street +', '+ args.city\n",
    "print(street_name)\n",
    "box.send_keys(street_name)\n",
    "sleep(4)\n",
    "# search.send_keys(Keys.RETURN)\n",
    "# sleep(3)\n",
    "#Clicking to search\n",
    "driver.find_element(By.XPATH, '//*[@id=\"ibuHeaderSearch\"]/div/div/div[2]/div/div').click()\n",
    "print(driver.find_element(By.XPATH, '//*[@id=\"__next\"]/div[2]/div/div[2]').text)\n",
    "\n",
    "# Execute JavaScript code to locate the element inside the Shadow DOM\n",
    "# element_in_shadow_dom = driver.execute_script(\"return arguments[0].shadowRoot.querySelector('my-element')\", web_component)\n",
    "# driver.find_element(By.XPATH, f'//*[@id=\"react-tabs-16581\"]/div/div[2]//*[contains(translate(text(), \"ABCDEFGHIJKLMNOPQRSTUVWXYZ\", \"abcdefghijklmnopqrstuvwxyz\"), \"{street_name}\")]').click()\n",
    "driver.close()"
   ]
  },
  {
   "cell_type": "code",
   "execution_count": null,
   "metadata": {},
   "outputs": [],
   "source": []
  }
 ],
 "metadata": {
  "kernelspec": {
   "display_name": "urbantext",
   "language": "python",
   "name": "python3"
  },
  "language_info": {
   "codemirror_mode": {
    "name": "ipython",
    "version": 3
   },
   "file_extension": ".py",
   "mimetype": "text/x-python",
   "name": "python",
   "nbconvert_exporter": "python",
   "pygments_lexer": "ipython3",
   "version": "3.11.0"
  },
  "orig_nbformat": 4,
  "vscode": {
   "interpreter": {
    "hash": "4ffac7977702229f1ad9d78421b66092afca36623513b5b20cc5ab3019de1a0c"
   }
  }
 },
 "nbformat": 4,
 "nbformat_minor": 2
}
